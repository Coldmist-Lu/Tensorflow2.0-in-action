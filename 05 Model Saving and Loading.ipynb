{
 "cells": [
  {
   "cell_type": "markdown",
   "metadata": {},
   "source": [
    "# 05 Model Saving and Loading\n",
    "\n",
    "* 本代码对应笔记（六）：模型保存与加载"
   ]
  },
  {
   "cell_type": "code",
   "execution_count": 2,
   "metadata": {},
   "outputs": [],
   "source": [
    "import tensorflow as tf\n",
    "import numpy as np"
   ]
  },
  {
   "cell_type": "markdown",
   "metadata": {},
   "source": [
    "## Experiment 1：Keras 版本模型保存与加载实例"
   ]
  },
  {
   "cell_type": "markdown",
   "metadata": {},
   "source": [
    "### 构建模型"
   ]
  },
  {
   "cell_type": "code",
   "execution_count": 3,
   "metadata": {},
   "outputs": [],
   "source": [
    "x_train = np.random.random((1000, 32))\n",
    "y_train = np.random.randint(10, size=(1000, ))\n",
    "x_val = np.random.random((200, 32))\n",
    "y_val = np.random.randint(10, size=(200, ))\n",
    "x_test = np.random.random((200, 32))\n",
    "y_test = np.random.randint(10, size=(200, ))"
   ]
  },
  {
   "cell_type": "code",
   "execution_count": 4,
   "metadata": {},
   "outputs": [],
   "source": [
    "def get_uncompiled_model():\n",
    "    inputs = tf.keras.Input(shape=(32,), name='digits')\n",
    "    x = tf.keras.layers.Dense(64, activation='relu', name='dense_1')(inputs)\n",
    "    x = tf.keras.layers.Dense(64, activation='relu', name='dense_2')(x)\n",
    "    outputs = tf.keras.layers.Dense(10, name='predictions')(x)\n",
    "    model = tf.keras.Model(inputs=inputs, outputs=outputs)\n",
    "    return model\n",
    "\n",
    "\n",
    "def get_compiled_model():\n",
    "    model = get_uncompiled_model()\n",
    "    model.compile(optimizer=tf.keras.optimizers.RMSprop(learning_rate=1e-3),\n",
    "                  loss=tf.keras.losses.SparseCategoricalCrossentropy(from_logits=True),\n",
    "                  metrics=['sparse_categorical_accuracy'])\n",
    "    return model"
   ]
  },
  {
   "cell_type": "code",
   "execution_count": 5,
   "metadata": {},
   "outputs": [
    {
     "name": "stdout",
     "output_type": "stream",
     "text": [
      "Train on 1000 samples, validate on 200 samples\n",
      "Epoch 1/5\n",
      "1000/1000 [==============================] - 3s 3ms/sample - loss: 2.3211 - sparse_categorical_accuracy: 0.0940 - val_loss: 2.3135 - val_sparse_categorical_accuracy: 0.0950\n",
      "Epoch 2/5\n",
      "1000/1000 [==============================] - 0s 178us/sample - loss: 2.2992 - sparse_categorical_accuracy: 0.1210 - val_loss: 2.3079 - val_sparse_categorical_accuracy: 0.0950\n",
      "Epoch 3/5\n",
      "1000/1000 [==============================] - 0s 178us/sample - loss: 2.2883 - sparse_categorical_accuracy: 0.1280 - val_loss: 2.3040 - val_sparse_categorical_accuracy: 0.1200\n",
      "Epoch 4/5\n",
      "1000/1000 [==============================] - 0s 187us/sample - loss: 2.2795 - sparse_categorical_accuracy: 0.1330 - val_loss: 2.3102 - val_sparse_categorical_accuracy: 0.1100\n",
      "Epoch 5/5\n",
      "1000/1000 [==============================] - 0s 180us/sample - loss: 2.2704 - sparse_categorical_accuracy: 0.1480 - val_loss: 2.3241 - val_sparse_categorical_accuracy: 0.1200\n"
     ]
    },
    {
     "data": {
      "text/plain": [
       "<tensorflow.python.keras.callbacks.History at 0x2646ccabbe0>"
      ]
     },
     "execution_count": 5,
     "metadata": {},
     "output_type": "execute_result"
    }
   ],
   "source": [
    "model = get_compiled_model()\n",
    "model.fit(x_train, y_train, batch_size=32, epochs=5, validation_data=(x_val, y_val))"
   ]
  },
  {
   "cell_type": "code",
   "execution_count": 6,
   "metadata": {},
   "outputs": [
    {
     "name": "stdout",
     "output_type": "stream",
     "text": [
      "Model: \"model\"\n",
      "_________________________________________________________________\n",
      "Layer (type)                 Output Shape              Param #   \n",
      "=================================================================\n",
      "digits (InputLayer)          [(None, 32)]              0         \n",
      "_________________________________________________________________\n",
      "dense_1 (Dense)              (None, 64)                2112      \n",
      "_________________________________________________________________\n",
      "dense_2 (Dense)              (None, 64)                4160      \n",
      "_________________________________________________________________\n",
      "predictions (Dense)          (None, 10)                650       \n",
      "=================================================================\n",
      "Total params: 6,922\n",
      "Trainable params: 6,922\n",
      "Non-trainable params: 0\n",
      "_________________________________________________________________\n"
     ]
    }
   ],
   "source": [
    "model.summary() # 输出模型的基本信息"
   ]
  },
  {
   "cell_type": "markdown",
   "metadata": {},
   "source": [
    "### 方法一"
   ]
  },
  {
   "cell_type": "code",
   "execution_count": 7,
   "metadata": {},
   "outputs": [
    {
     "data": {
      "text/plain": [
       "array([[-0.23102592,  0.13815294,  0.27605557, ..., -0.16409107,\n",
       "        -0.25398013, -0.11844754],\n",
       "       [ 0.24739535, -0.24001424,  0.4182669 , ..., -0.19843407,\n",
       "        -0.15420337,  0.05267289],\n",
       "       [-0.02213112, -0.18743148,  0.35439014, ..., -0.09908845,\n",
       "        -0.2874645 ,  0.12685709],\n",
       "       ...,\n",
       "       [-0.09932711,  0.10636744,  0.22725536, ..., -0.20873871,\n",
       "        -0.04876753, -0.03091137],\n",
       "       [ 0.1889535 , -0.07669853,  0.35592818, ...,  0.14625897,\n",
       "        -0.17588966,  0.08709314],\n",
       "       [-0.10963404, -0.21262915,  0.48496926, ...,  0.22871155,\n",
       "        -0.11886349, -0.07554186]], dtype=float32)"
      ]
     },
     "execution_count": 7,
     "metadata": {},
     "output_type": "execute_result"
    }
   ],
   "source": [
    "model.save_weights(\"1_weight.h5\") # 保存\n",
    "model.load_weights(\"1_weight.h5\") # 加载\n",
    "model.predict(x_test) # 预测"
   ]
  },
  {
   "cell_type": "markdown",
   "metadata": {},
   "source": [
    "### 方法二"
   ]
  },
  {
   "cell_type": "code",
   "execution_count": 8,
   "metadata": {
    "scrolled": true
   },
   "outputs": [
    {
     "name": "stdout",
     "output_type": "stream",
     "text": [
      "WARNING:tensorflow:From d:\\anaconda3\\envs\\tf20\\lib\\site-packages\\tensorflow_core\\python\\ops\\resource_variable_ops.py:1781: calling BaseResourceVariable.__init__ (from tensorflow.python.ops.resource_variable_ops) with constraint is deprecated and will be removed in a future version.\n",
      "Instructions for updating:\n",
      "If using Keras pass *_constraint arguments to layers.\n",
      "INFO:tensorflow:Assets written to: 2_keras_model\\assets\n"
     ]
    },
    {
     "data": {
      "text/plain": [
       "array([[-0.23102592,  0.13815294,  0.27605557, ..., -0.16409107,\n",
       "        -0.25398013, -0.11844754],\n",
       "       [ 0.24739535, -0.24001424,  0.4182669 , ..., -0.19843407,\n",
       "        -0.15420337,  0.05267289],\n",
       "       [-0.02213112, -0.18743148,  0.35439014, ..., -0.09908845,\n",
       "        -0.2874645 ,  0.12685709],\n",
       "       ...,\n",
       "       [-0.09932711,  0.10636744,  0.22725536, ..., -0.20873871,\n",
       "        -0.04876753, -0.03091137],\n",
       "       [ 0.1889535 , -0.07669853,  0.35592818, ...,  0.14625897,\n",
       "        -0.17588966,  0.08709314],\n",
       "       [-0.10963404, -0.21262915,  0.48496926, ...,  0.22871155,\n",
       "        -0.11886349, -0.07554186]], dtype=float32)"
      ]
     },
     "execution_count": 8,
     "metadata": {},
     "output_type": "execute_result"
    }
   ],
   "source": [
    "model.save('2_keras_model', save_format='tf') # 保存\n",
    "new_model = tf.keras.models.load_model('2_keras_model') # 加载\n",
    "new_model.predict(x_test) # 预测"
   ]
  },
  {
   "cell_type": "markdown",
   "metadata": {},
   "source": [
    "### 方法三"
   ]
  },
  {
   "cell_type": "code",
   "execution_count": 9,
   "metadata": {},
   "outputs": [
    {
     "data": {
      "text/plain": [
       "array([[-0.23102592,  0.13815294,  0.27605557, ..., -0.16409107,\n",
       "        -0.25398013, -0.11844754],\n",
       "       [ 0.24739535, -0.24001424,  0.4182669 , ..., -0.19843407,\n",
       "        -0.15420337,  0.05267289],\n",
       "       [-0.02213112, -0.18743148,  0.35439014, ..., -0.09908845,\n",
       "        -0.2874645 ,  0.12685709],\n",
       "       ...,\n",
       "       [-0.09932711,  0.10636744,  0.22725536, ..., -0.20873871,\n",
       "        -0.04876753, -0.03091137],\n",
       "       [ 0.1889535 , -0.07669853,  0.35592818, ...,  0.14625897,\n",
       "        -0.17588966,  0.08709314],\n",
       "       [-0.10963404, -0.21262915,  0.48496926, ...,  0.22871155,\n",
       "        -0.11886349, -0.07554186]], dtype=float32)"
      ]
     },
     "execution_count": 9,
     "metadata": {},
     "output_type": "execute_result"
    }
   ],
   "source": [
    "model.save('3_keras_model.h5') # 保存\n",
    "new_model = tf.keras.models.load_model('3_keras_model.h5') # 加载\n",
    "new_model.predict(x_test) # 预测"
   ]
  },
  {
   "cell_type": "markdown",
   "metadata": {},
   "source": [
    "### 方法四"
   ]
  },
  {
   "cell_type": "code",
   "execution_count": 10,
   "metadata": {},
   "outputs": [
    {
     "name": "stdout",
     "output_type": "stream",
     "text": [
      "INFO:tensorflow:Assets written to: 4_keras_model\\assets\n"
     ]
    }
   ],
   "source": [
    "tf.saved_model.save(model, '4_keras_model')\n",
    "restored_saved_model = tf.saved_model.load('4_keras_model')\n",
    "f = restored_saved_model.signatures[\"serving_default\"] # 加载签名为f"
   ]
  },
  {
   "cell_type": "code",
   "execution_count": 12,
   "metadata": {},
   "outputs": [
    {
     "name": "stdout",
     "output_type": "stream",
     "text": [
      "\n",
      "MetaGraphDef with tag-set: 'serve' contains the following SignatureDefs:\n",
      "\n",
      "signature_def['__saved_model_init_op']:\n",
      "  The given SavedModel SignatureDef contains the following input(s):\n",
      "  The given SavedModel SignatureDef contains the following output(s):\n",
      "    outputs['__saved_model_init_op'] tensor_info:\n",
      "        dtype: DT_INVALID\n",
      "        shape: unknown_rank\n",
      "        name: NoOp\n",
      "  Method name is: \n",
      "\n",
      "signature_def['serving_default']:\n",
      "  The given SavedModel SignatureDef contains the following input(s):\n",
      "    inputs['digits'] tensor_info:\n",
      "        dtype: DT_FLOAT\n",
      "        shape: (-1, 32)\n",
      "        name: serving_default_digits:0\n",
      "  The given SavedModel SignatureDef contains the following output(s):\n",
      "    outputs['predictions'] tensor_info:\n",
      "        dtype: DT_FLOAT\n",
      "        shape: (-1, 10)\n",
      "        name: StatefulPartitionedCall:0\n",
      "  Method name is: tensorflow/serving/predict\n"
     ]
    },
    {
     "name": "stderr",
     "output_type": "stream",
     "text": [
      "2020-08-27 14:56:03.647494: I tensorflow/stream_executor/platform/default/dso_loader.cc:44] Successfully opened dynamic library cudart64_100.dll\n"
     ]
    }
   ],
   "source": [
    "!saved_model_cli show --dir 4_keras_model --all"
   ]
  },
  {
   "cell_type": "code",
   "execution_count": 13,
   "metadata": {},
   "outputs": [
    {
     "data": {
      "text/plain": [
       "{'predictions': <tf.Tensor: id=5165, shape=(200, 10), dtype=float32, numpy=\n",
       " array([[-0.23102592,  0.13815294,  0.27605557, ..., -0.16409107,\n",
       "         -0.25398013, -0.11844754],\n",
       "        [ 0.24739535, -0.24001424,  0.4182669 , ..., -0.19843407,\n",
       "         -0.15420337,  0.05267289],\n",
       "        [-0.02213112, -0.18743148,  0.35439014, ..., -0.09908845,\n",
       "         -0.2874645 ,  0.12685709],\n",
       "        ...,\n",
       "        [-0.09932711,  0.10636744,  0.22725536, ..., -0.20873871,\n",
       "         -0.04876753, -0.03091137],\n",
       "        [ 0.1889535 , -0.07669853,  0.35592818, ...,  0.14625897,\n",
       "         -0.17588966,  0.08709314],\n",
       "        [-0.10963404, -0.21262915,  0.48496926, ...,  0.22871155,\n",
       "         -0.11886349, -0.07554186]], dtype=float32)>}"
      ]
     },
     "execution_count": 13,
     "metadata": {},
     "output_type": "execute_result"
    }
   ],
   "source": [
    "f(digits = tf.constant(x_test.tolist()) ) # 喂入digits量来开始预测"
   ]
  },
  {
   "cell_type": "markdown",
   "metadata": {},
   "source": [
    "## Experiment 2：自定义模型的保存与加载实例"
   ]
  },
  {
   "cell_type": "markdown",
   "metadata": {},
   "source": [
    "### 构建模型"
   ]
  },
  {
   "cell_type": "code",
   "execution_count": 14,
   "metadata": {},
   "outputs": [],
   "source": [
    "class MyModel(tf.keras.Model):\n",
    "\n",
    "    def __init__(self, num_classes=10):\n",
    "        super(MyModel, self).__init__(name='my_model')\n",
    "        self.num_classes = num_classes\n",
    "        # 定义自己需要的层\n",
    "        self.dense_1 = tf.keras.layers.Dense(32, activation='relu')\n",
    "        self.dense_2 = tf.keras.layers.Dense(num_classes)\n",
    "    \n",
    "    @tf.function(input_signature=[tf.TensorSpec([None,32], tf.float32,name='digits')])\n",
    "    def call(self, inputs):\n",
    "        #定义前向传播\n",
    "        # 使用在 (in `__init__`)定义的层\n",
    "        x = self.dense_1(inputs)\n",
    "        return self.dense_2(x)"
   ]
  },
  {
   "cell_type": "code",
   "execution_count": 15,
   "metadata": {},
   "outputs": [],
   "source": [
    "x_train = np.random.random((1000, 32))\n",
    "y_train = np.random.random((1000, 10))\n",
    "x_val = np.random.random((200, 32))\n",
    "y_val = np.random.random((200, 10))\n",
    "x_test = np.random.random((200, 32))\n",
    "y_test = np.random.random((200, 10))\n",
    "\n",
    "# 优化器\n",
    "optimizer = tf.keras.optimizers.SGD(learning_rate=1e-3)\n",
    "# 损失函数\n",
    "loss_fn = tf.keras.losses.CategoricalCrossentropy(from_logits=True)\n",
    "\n",
    "# 准备metrics函数\n",
    "train_acc_metric = tf.keras.metrics.CategoricalAccuracy()\n",
    "val_acc_metric = tf.keras.metrics.CategoricalAccuracy()\n",
    "\n",
    "# 准备训练数据集\n",
    "batch_size = 64\n",
    "train_dataset = tf.data.Dataset.from_tensor_slices((x_train, y_train))\n",
    "train_dataset = train_dataset.shuffle(buffer_size=1024).batch(batch_size)\n",
    "\n",
    "# 准备测试数据集\n",
    "val_dataset = tf.data.Dataset.from_tensor_slices((x_val, y_val))\n",
    "val_dataset = val_dataset.batch(64)"
   ]
  },
  {
   "cell_type": "code",
   "execution_count": 16,
   "metadata": {
    "scrolled": true
   },
   "outputs": [
    {
     "name": "stdout",
     "output_type": "stream",
     "text": [
      "Start of epoch 0\n",
      "WARNING:tensorflow:Layer my_model is casting an input tensor from dtype float64 to the layer's dtype of float32, which is new behavior in TensorFlow 2.  The layer has dtype float32 because it's dtype defaults to floatx.\n",
      "\n",
      "If you intended to run this layer in float32, you can safely ignore this warning. If in doubt, this warning is likely only an issue if you are porting a TensorFlow 1.X model to TensorFlow 2.\n",
      "\n",
      "To change all layers to have dtype float64 by default, call `tf.keras.backend.set_floatx('float64')`. To change just this layer, pass dtype='float64' to the layer constructor. If you are the author of this layer, you can disable autocasting by passing autocast=False to the base Layer constructor.\n",
      "\n",
      "Training loss (for one batch) at step 0: 12.29334545135498\n",
      "Seen so far: 64 samples\n",
      "Training acc over epoch: 0.1080000028014183\n",
      "Validation acc: 0.10499999672174454\n",
      "Start of epoch 1\n",
      "Training loss (for one batch) at step 0: 11.825309753417969\n",
      "Seen so far: 64 samples\n",
      "Training acc over epoch: 0.1080000028014183\n",
      "Validation acc: 0.10499999672174454\n",
      "Start of epoch 2\n",
      "Training loss (for one batch) at step 0: 12.13326644897461\n",
      "Seen so far: 64 samples\n",
      "Training acc over epoch: 0.10700000077486038\n",
      "Validation acc: 0.09000000357627869\n"
     ]
    }
   ],
   "source": [
    "model = MyModel(num_classes=10)\n",
    "epochs = 3\n",
    "for epoch in range(epochs):\n",
    "    print('Start of epoch %d' % (epoch,))\n",
    "\n",
    "    # 遍历数据集的batch_size\n",
    "    for step, (x_batch_train, y_batch_train) in enumerate(train_dataset):\n",
    "        with tf.GradientTape() as tape:\n",
    "            logits = model(x_batch_train)\n",
    "            loss_value = loss_fn(y_batch_train, logits)\n",
    "        grads = tape.gradient(loss_value, model.trainable_weights)\n",
    "        optimizer.apply_gradients(zip(grads, model.trainable_weights))\n",
    "\n",
    "        # 更新训练集的metrics\n",
    "        train_acc_metric(y_batch_train, logits)\n",
    "\n",
    "        # 每200 batches打印一次.\n",
    "        if step % 200 == 0:\n",
    "            print('Training loss (for one batch) at step %s: %s' % (step, float(loss_value)))\n",
    "            print('Seen so far: %s samples' % ((step + 1) * 64))\n",
    "\n",
    "    # 在每个epoch结束时显示metrics。\n",
    "    train_acc = train_acc_metric.result()\n",
    "    print('Training acc over epoch: %s' % (float(train_acc),))\n",
    "    # 在每个epoch结束时重置训练指标\n",
    "    train_acc_metric.reset_states()\n",
    "\n",
    "    # 在每个epoch结束时运行一个验证集。\n",
    "    for x_batch_val, y_batch_val in val_dataset:\n",
    "        val_logits = model(x_batch_val)\n",
    "        # 更新验证集merics\n",
    "        val_acc_metric(y_batch_val, val_logits)\n",
    "    val_acc = val_acc_metric.result()\n",
    "    val_acc_metric.reset_states()\n",
    "    print('Validation acc: %s' % (float(val_acc),))"
   ]
  },
  {
   "cell_type": "markdown",
   "metadata": {},
   "source": [
    "### 方法一"
   ]
  },
  {
   "cell_type": "code",
   "execution_count": 17,
   "metadata": {},
   "outputs": [
    {
     "data": {
      "text/plain": [
       "array([[ 0.97662544,  0.70249623, -0.17515767, ...,  0.6006003 ,\n",
       "        -0.43924803, -0.08009711],\n",
       "       [ 0.31601658,  0.68557096, -0.5772513 , ...,  0.4954068 ,\n",
       "        -0.5323951 ,  0.09949179],\n",
       "       [ 0.3059433 ,  0.31548825, -0.2803604 , ...,  0.15817128,\n",
       "        -0.31174934,  0.31183326],\n",
       "       ...,\n",
       "       [-0.43724316, -0.0748131 , -0.8163254 , ...,  0.6782323 ,\n",
       "        -0.8539426 ,  0.24702747],\n",
       "       [ 0.47802803,  0.23041634, -0.28471902, ...,  0.7216619 ,\n",
       "        -0.82849485,  0.33037198],\n",
       "       [ 0.45628104,  1.1276783 , -0.48714632, ...,  0.27054483,\n",
       "         0.4667269 ,  0.65397257]], dtype=float32)"
      ]
     },
     "execution_count": 17,
     "metadata": {},
     "output_type": "execute_result"
    }
   ],
   "source": [
    "model.save_weights(\"1_weight.h5\") # 保存\n",
    "model.load_weights(\"1_weight.h5\") # 加载\n",
    "model.predict(x_test) # 预测"
   ]
  },
  {
   "cell_type": "markdown",
   "metadata": {},
   "source": [
    "### 方法二"
   ]
  },
  {
   "cell_type": "code",
   "execution_count": 20,
   "metadata": {
    "scrolled": true
   },
   "outputs": [
    {
     "name": "stdout",
     "output_type": "stream",
     "text": [
      "INFO:tensorflow:Assets written to: 2_selfdefined_model\\assets\n"
     ]
    },
    {
     "data": {
      "text/plain": [
       "array([[ 0.97662544,  0.70249623, -0.17515767, ...,  0.6006003 ,\n",
       "        -0.43924803, -0.08009711],\n",
       "       [ 0.31601658,  0.68557096, -0.5772513 , ...,  0.4954068 ,\n",
       "        -0.5323951 ,  0.09949179],\n",
       "       [ 0.3059433 ,  0.31548825, -0.2803604 , ...,  0.15817128,\n",
       "        -0.31174934,  0.31183326],\n",
       "       ...,\n",
       "       [-0.43724316, -0.0748131 , -0.8163254 , ...,  0.6782323 ,\n",
       "        -0.8539426 ,  0.24702747],\n",
       "       [ 0.47802803,  0.23041634, -0.28471902, ...,  0.7216619 ,\n",
       "        -0.82849485,  0.33037198],\n",
       "       [ 0.45628104,  1.1276783 , -0.48714632, ...,  0.27054483,\n",
       "         0.4667269 ,  0.65397257]], dtype=float32)"
      ]
     },
     "execution_count": 20,
     "metadata": {},
     "output_type": "execute_result"
    }
   ],
   "source": [
    "model.save('2_selfdefined_model', save_format='tf') # 保存\n",
    "new_model = tf.keras.models.load_model('2_selfdefined_model') # 加载\n",
    "new_model.predict(x_test) # 预测"
   ]
  },
  {
   "cell_type": "markdown",
   "metadata": {},
   "source": [
    "### 方法三"
   ]
  },
  {
   "cell_type": "code",
   "execution_count": 21,
   "metadata": {},
   "outputs": [
    {
     "ename": "NotImplementedError",
     "evalue": "Saving the model to HDF5 format requires the model to be a Functional model or a Sequential model. It does not work for subclassed models, because such models are defined via the body of a Python method, which isn't safely serializable. Consider saving to the Tensorflow SavedModel format (by setting save_format=\"tf\") or using `save_weights`.",
     "output_type": "error",
     "traceback": [
      "\u001b[1;31m---------------------------------------------------------------------------\u001b[0m",
      "\u001b[1;31mNotImplementedError\u001b[0m                       Traceback (most recent call last)",
      "\u001b[1;32m<ipython-input-21-9c40b124d1fa>\u001b[0m in \u001b[0;36m<module>\u001b[1;34m\u001b[0m\n\u001b[1;32m----> 1\u001b[1;33m \u001b[0mmodel\u001b[0m\u001b[1;33m.\u001b[0m\u001b[0msave\u001b[0m\u001b[1;33m(\u001b[0m\u001b[1;34m'3_selfdefined_model.h5'\u001b[0m\u001b[1;33m)\u001b[0m\u001b[1;33m\u001b[0m\u001b[0m\n\u001b[0m",
      "\u001b[1;32md:\\anaconda3\\envs\\tf20\\lib\\site-packages\\tensorflow_core\\python\\keras\\engine\\network.py\u001b[0m in \u001b[0;36msave\u001b[1;34m(self, filepath, overwrite, include_optimizer, save_format, signatures, options)\u001b[0m\n\u001b[0;32m    973\u001b[0m     \"\"\"\n\u001b[0;32m    974\u001b[0m     saving.save_model(self, filepath, overwrite, include_optimizer, save_format,\n\u001b[1;32m--> 975\u001b[1;33m                       signatures, options)\n\u001b[0m\u001b[0;32m    976\u001b[0m \u001b[1;33m\u001b[0m\u001b[0m\n\u001b[0;32m    977\u001b[0m   \u001b[1;32mdef\u001b[0m \u001b[0msave_weights\u001b[0m\u001b[1;33m(\u001b[0m\u001b[0mself\u001b[0m\u001b[1;33m,\u001b[0m \u001b[0mfilepath\u001b[0m\u001b[1;33m,\u001b[0m \u001b[0moverwrite\u001b[0m\u001b[1;33m=\u001b[0m\u001b[1;32mTrue\u001b[0m\u001b[1;33m,\u001b[0m \u001b[0msave_format\u001b[0m\u001b[1;33m=\u001b[0m\u001b[1;32mNone\u001b[0m\u001b[1;33m)\u001b[0m\u001b[1;33m:\u001b[0m\u001b[1;33m\u001b[0m\u001b[0m\n",
      "\u001b[1;32md:\\anaconda3\\envs\\tf20\\lib\\site-packages\\tensorflow_core\\python\\keras\\saving\\save.py\u001b[0m in \u001b[0;36msave_model\u001b[1;34m(model, filepath, overwrite, include_optimizer, save_format, signatures, options)\u001b[0m\n\u001b[0;32m    103\u001b[0m         not isinstance(model, sequential.Sequential)):\n\u001b[0;32m    104\u001b[0m       raise NotImplementedError(\n\u001b[1;32m--> 105\u001b[1;33m           \u001b[1;34m'Saving the model to HDF5 format requires the model to be a '\u001b[0m\u001b[1;33m\u001b[0m\u001b[0m\n\u001b[0m\u001b[0;32m    106\u001b[0m           \u001b[1;34m'Functional model or a Sequential model. It does not work for '\u001b[0m\u001b[1;33m\u001b[0m\u001b[0m\n\u001b[0;32m    107\u001b[0m           \u001b[1;34m'subclassed models, because such models are defined via the body of '\u001b[0m\u001b[1;33m\u001b[0m\u001b[0m\n",
      "\u001b[1;31mNotImplementedError\u001b[0m: Saving the model to HDF5 format requires the model to be a Functional model or a Sequential model. It does not work for subclassed models, because such models are defined via the body of a Python method, which isn't safely serializable. Consider saving to the Tensorflow SavedModel format (by setting save_format=\"tf\") or using `save_weights`."
     ]
    }
   ],
   "source": [
    "model.save('3_selfdefined_model.h5')"
   ]
  },
  {
   "cell_type": "markdown",
   "metadata": {},
   "source": [
    "### 方法四"
   ]
  },
  {
   "cell_type": "code",
   "execution_count": 22,
   "metadata": {},
   "outputs": [
    {
     "name": "stdout",
     "output_type": "stream",
     "text": [
      "INFO:tensorflow:Assets written to: 4_selfdefined_model\\assets\n"
     ]
    }
   ],
   "source": [
    "tf.saved_model.save(model, '4_selfdefined_model')\n",
    "restored_saved_model = tf.saved_model.load('4_selfdefined_model')\n",
    "f = restored_saved_model.signatures[\"serving_default\"] # 加载签名为f"
   ]
  },
  {
   "cell_type": "code",
   "execution_count": 23,
   "metadata": {},
   "outputs": [
    {
     "name": "stdout",
     "output_type": "stream",
     "text": [
      "\n",
      "MetaGraphDef with tag-set: 'serve' contains the following SignatureDefs:\n",
      "\n",
      "signature_def['__saved_model_init_op']:\n",
      "  The given SavedModel SignatureDef contains the following input(s):\n",
      "  The given SavedModel SignatureDef contains the following output(s):\n",
      "    outputs['__saved_model_init_op'] tensor_info:\n",
      "        dtype: DT_INVALID\n",
      "        shape: unknown_rank\n",
      "        name: NoOp\n",
      "  Method name is: \n",
      "\n",
      "signature_def['serving_default']:\n",
      "  The given SavedModel SignatureDef contains the following input(s):\n",
      "    inputs['digits'] tensor_info:\n",
      "        dtype: DT_FLOAT\n",
      "        shape: (-1, 32)\n",
      "        name: serving_default_digits:0\n",
      "  The given SavedModel SignatureDef contains the following output(s):\n",
      "    outputs['output_1'] tensor_info:\n",
      "        dtype: DT_FLOAT\n",
      "        shape: (-1, 10)\n",
      "        name: StatefulPartitionedCall:0\n",
      "  Method name is: tensorflow/serving/predict\n"
     ]
    },
    {
     "name": "stderr",
     "output_type": "stream",
     "text": [
      "2020-08-27 15:01:00.237573: I tensorflow/stream_executor/platform/default/dso_loader.cc:44] Successfully opened dynamic library cudart64_100.dll\n"
     ]
    }
   ],
   "source": [
    "!saved_model_cli show --dir 4_selfdefined_model --all"
   ]
  },
  {
   "cell_type": "code",
   "execution_count": 24,
   "metadata": {},
   "outputs": [
    {
     "data": {
      "text/plain": [
       "{'output_1': <tf.Tensor: id=12460, shape=(200, 10), dtype=float32, numpy=\n",
       " array([[ 0.97662544,  0.70249623, -0.17515767, ...,  0.6006003 ,\n",
       "         -0.43924803, -0.08009711],\n",
       "        [ 0.31601658,  0.68557096, -0.5772513 , ...,  0.4954068 ,\n",
       "         -0.5323951 ,  0.09949179],\n",
       "        [ 0.3059433 ,  0.31548825, -0.2803604 , ...,  0.15817128,\n",
       "         -0.31174934,  0.31183326],\n",
       "        ...,\n",
       "        [-0.43724316, -0.0748131 , -0.8163254 , ...,  0.6782323 ,\n",
       "         -0.8539426 ,  0.24702747],\n",
       "        [ 0.47802803,  0.23041634, -0.28471902, ...,  0.7216619 ,\n",
       "         -0.82849485,  0.33037198],\n",
       "        [ 0.45628104,  1.1276783 , -0.48714632, ...,  0.27054483,\n",
       "          0.4667269 ,  0.65397257]], dtype=float32)>}"
      ]
     },
     "execution_count": 24,
     "metadata": {},
     "output_type": "execute_result"
    }
   ],
   "source": [
    "f(digits = tf.constant(x_test.tolist()) ) # 喂入digits量来开始预测"
   ]
  }
 ],
 "metadata": {
  "kernelspec": {
   "display_name": "Python 3",
   "language": "python",
   "name": "python3"
  },
  "language_info": {
   "codemirror_mode": {
    "name": "ipython",
    "version": 3
   },
   "file_extension": ".py",
   "mimetype": "text/x-python",
   "name": "python",
   "nbconvert_exporter": "python",
   "pygments_lexer": "ipython3",
   "version": "3.7.0"
  }
 },
 "nbformat": 4,
 "nbformat_minor": 4
}
