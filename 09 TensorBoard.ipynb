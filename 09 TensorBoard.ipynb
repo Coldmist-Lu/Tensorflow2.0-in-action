{
 "cells": [
  {
   "cell_type": "markdown",
   "metadata": {},
   "source": [
    "# 09 TensorBoard\n",
    "\n",
    "* 本代码对应笔记（十）：TensorBoard"
   ]
  },
  {
   "cell_type": "code",
   "execution_count": 1,
   "metadata": {},
   "outputs": [],
   "source": [
    "import tensorflow as tf\n",
    "\n",
    "from tensorflow.keras.layers import Dense, Flatten, Conv2D\n",
    "from tensorflow.keras import Model\n",
    "import numpy as np\n",
    "import datetime"
   ]
  },
  {
   "cell_type": "markdown",
   "metadata": {},
   "source": [
    "## Experiment 1：在 Keras 训练中使用 TensorBoard"
   ]
  },
  {
   "cell_type": "markdown",
   "metadata": {},
   "source": [
    "### 导入数据，构建模型"
   ]
  },
  {
   "cell_type": "code",
   "execution_count": 2,
   "metadata": {},
   "outputs": [],
   "source": [
    "mnist = np.load(\"../../Dataset/mnist.npz\")\n",
    "x_train, y_train, x_test, y_test = mnist['x_train'], mnist['y_train'], mnist['x_test'], mnist['y_test']\n",
    "x_train, x_test = x_train / 255.0, x_test / 255.0\n",
    "\n",
    "# Add a channels dimension\n",
    "x_train = x_train[..., tf.newaxis]\n",
    "x_test = x_test[..., tf.newaxis]"
   ]
  },
  {
   "cell_type": "code",
   "execution_count": 3,
   "metadata": {},
   "outputs": [],
   "source": [
    "class MyModel(Model):\n",
    "    def __init__(self):\n",
    "        super(MyModel, self).__init__()\n",
    "        self.conv1 = Conv2D(32, 3, activation='relu')\n",
    "        self.flatten = Flatten()\n",
    "        self.d1 = Dense(128, activation='relu')\n",
    "        self.d2 = Dense(10, activation='softmax')\n",
    "    @tf.function\n",
    "    def call(self, x):\n",
    "        x = self.conv1(x)\n",
    "        x = self.flatten(x)\n",
    "        x = self.d1(x)\n",
    "        return self.d2(x)"
   ]
  },
  {
   "cell_type": "markdown",
   "metadata": {},
   "source": [
    "### 使用 TensorBoard 回调函数"
   ]
  },
  {
   "cell_type": "code",
   "execution_count": 5,
   "metadata": {
    "scrolled": true
   },
   "outputs": [
    {
     "name": "stdout",
     "output_type": "stream",
     "text": [
      "Train on 60000 samples, validate on 10000 samples\n",
      "Epoch 1/20\n",
      "60000/60000 [==============================] - 26s 428us/sample - loss: 0.1403 - accuracy: 0.9586 - val_loss: 0.0679 - val_accuracy: 0.9802\n",
      "Epoch 2/20\n",
      "60000/60000 [==============================] - 16s 262us/sample - loss: 0.0433 - accuracy: 0.9871 - val_loss: 0.0461 - val_accuracy: 0.9857\n",
      "Epoch 3/20\n",
      "60000/60000 [==============================] - 16s 262us/sample - loss: 0.0242 - accuracy: 0.9923 - val_loss: 0.0591 - val_accuracy: 0.9811\n",
      "Epoch 4/20\n",
      "60000/60000 [==============================] - 16s 261us/sample - loss: 0.0138 - accuracy: 0.9950 - val_loss: 0.0588 - val_accuracy: 0.9834\n",
      "Epoch 5/20\n",
      "60000/60000 [==============================] - 16s 263us/sample - loss: 0.0112 - accuracy: 0.9962 - val_loss: 0.0605 - val_accuracy: 0.9849\n",
      "Epoch 6/20\n",
      "60000/60000 [==============================] - 16s 262us/sample - loss: 0.0087 - accuracy: 0.9973 - val_loss: 0.0644 - val_accuracy: 0.9839\n",
      "Epoch 7/20\n",
      "60000/60000 [==============================] - 16s 267us/sample - loss: 0.0061 - accuracy: 0.9979 - val_loss: 0.0609 - val_accuracy: 0.9842\n",
      "Epoch 8/20\n",
      "60000/60000 [==============================] - 16s 265us/sample - loss: 0.0040 - accuracy: 0.9987 - val_loss: 0.0647 - val_accuracy: 0.9862\n",
      "Epoch 9/20\n",
      "60000/60000 [==============================] - 16s 266us/sample - loss: 0.0054 - accuracy: 0.9983 - val_loss: 0.0697 - val_accuracy: 0.9840\n",
      "Epoch 10/20\n",
      "60000/60000 [==============================] - 16s 266us/sample - loss: 0.0046 - accuracy: 0.9985 - val_loss: 0.0811 - val_accuracy: 0.9822\n",
      "Epoch 11/20\n",
      "60000/60000 [==============================] - 16s 264us/sample - loss: 0.0026 - accuracy: 0.9992 - val_loss: 0.0779 - val_accuracy: 0.9844\n",
      "Epoch 12/20\n",
      "60000/60000 [==============================] - 16s 266us/sample - loss: 0.0028 - accuracy: 0.9991 - val_loss: 0.0822 - val_accuracy: 0.9853\n",
      "Epoch 13/20\n",
      "60000/60000 [==============================] - 17s 277us/sample - loss: 0.0033 - accuracy: 0.9989 - val_loss: 0.0728 - val_accuracy: 0.9865\n",
      "Epoch 14/20\n",
      "60000/60000 [==============================] - 17s 280us/sample - loss: 0.0015 - accuracy: 0.9996 - val_loss: 0.0834 - val_accuracy: 0.9845\n",
      "Epoch 15/20\n",
      "60000/60000 [==============================] - 16s 269us/sample - loss: 0.0036 - accuracy: 0.9990 - val_loss: 0.0955 - val_accuracy: 0.9840\n",
      "Epoch 16/20\n",
      "60000/60000 [==============================] - 16s 270us/sample - loss: 0.0016 - accuracy: 0.9995 - val_loss: 0.0861 - val_accuracy: 0.9857\n",
      "Epoch 17/20\n",
      "60000/60000 [==============================] - 17s 290us/sample - loss: 0.0020 - accuracy: 0.9993 - val_loss: 0.1009 - val_accuracy: 0.9843\n",
      "Epoch 18/20\n",
      "60000/60000 [==============================] - 19s 310us/sample - loss: 0.0026 - accuracy: 0.9992 - val_loss: 0.0962 - val_accuracy: 0.9847\n",
      "Epoch 19/20\n",
      "60000/60000 [==============================] - 17s 289us/sample - loss: 0.0013 - accuracy: 0.9995 - val_loss: 0.1148 - val_accuracy: 0.9827\n",
      "Epoch 20/20\n",
      "60000/60000 [==============================] - 17s 276us/sample - loss: 0.0019 - accuracy: 0.9994 - val_loss: 0.1060 - val_accuracy: 0.9823\n"
     ]
    },
    {
     "data": {
      "text/plain": [
       "<tensorflow.python.keras.callbacks.History at 0x1f2e2ece080>"
      ]
     },
     "execution_count": 5,
     "metadata": {},
     "output_type": "execute_result"
    }
   ],
   "source": [
    "model = MyModel()\n",
    "model.compile(optimizer='adam',\n",
    "              loss='sparse_categorical_crossentropy',\n",
    "              metrics=['accuracy'])\n",
    "\n",
    "tensorboard_callback = tf.keras.callbacks.TensorBoard(log_dir=\"E:/Dataset/tensorboard_for_keras\", \n",
    "                                                      histogram_freq=1,\n",
    "                                                      profile_batch = 100000000)\n",
    "\n",
    "model.fit(x=x_train, \n",
    "          y=y_train, \n",
    "          epochs=20, \n",
    "          validation_data=(x_test, y_test), \n",
    "          callbacks=[tensorboard_callback])"
   ]
  },
  {
   "cell_type": "code",
   "execution_count": 6,
   "metadata": {},
   "outputs": [],
   "source": [
    "%load_ext tensorboard"
   ]
  },
  {
   "cell_type": "code",
   "execution_count": 7,
   "metadata": {},
   "outputs": [
    {
     "data": {
      "text/plain": [
       "ERROR: Timed out waiting for TensorBoard to start. It may still be running as pid 16228."
      ]
     },
     "metadata": {},
     "output_type": "display_data"
    }
   ],
   "source": [
    "# 据说能打开tensorboard，但实测的时候不可以，可能缺少某些权限，或者使用 JupyterLab 才可以\n",
    "%tensorboard --logdir=E:/Dataset/tensorboard_for_keras"
   ]
  },
  {
   "cell_type": "markdown",
   "metadata": {},
   "source": [
    "## Experiment 2：自定义训练中使用 TensorBoard"
   ]
  },
  {
   "cell_type": "markdown",
   "metadata": {},
   "source": [
    "### 新建模型"
   ]
  },
  {
   "cell_type": "code",
   "execution_count": 3,
   "metadata": {
    "scrolled": true
   },
   "outputs": [],
   "source": [
    "train_ds = tf.data.Dataset.from_tensor_slices(\n",
    "    (x_train, y_train)).shuffle(10000).batch(32)\n",
    "test_ds = tf.data.Dataset.from_tensor_slices((x_test, y_test)).batch(32)"
   ]
  },
  {
   "cell_type": "code",
   "execution_count": 4,
   "metadata": {},
   "outputs": [],
   "source": [
    "class MyModel(Model):\n",
    "    def __init__(self,**kwargs):\n",
    "        super(MyModel, self).__init__(**kwargs)\n",
    "        self.conv1 = Conv2D(32, 3, activation='relu')\n",
    "        self.flatten = Flatten()\n",
    "        self.d1 = Dense(128, activation='relu')\n",
    "        self.d2 = Dense(10, activation='softmax')\n",
    "        \n",
    "    @tf.function # 注意这里实现了静态图\n",
    "    def call(self, x):\n",
    "        x = self.conv1(x)\n",
    "        x = self.flatten(x)\n",
    "        x = self.d1(x)\n",
    "        return self.d2(x)"
   ]
  },
  {
   "cell_type": "code",
   "execution_count": 5,
   "metadata": {},
   "outputs": [],
   "source": [
    "loss_object = tf.keras.losses.SparseCategoricalCrossentropy()\n",
    "\n",
    "optimizer = tf.keras.optimizers.Adam()\n",
    "\n",
    "train_loss = tf.keras.metrics.Mean(name='train_loss')\n",
    "train_accuracy = tf.keras.metrics.SparseCategoricalAccuracy(name='train_accuracy')\n",
    "\n",
    "test_loss = tf.keras.metrics.Mean(name='test_loss')\n",
    "test_accuracy = tf.keras.metrics.SparseCategoricalAccuracy(name='test_accuracy')\n",
    "\n",
    "def train_step(images, labels):\n",
    "    with tf.GradientTape() as tape:\n",
    "        predictions = model(images)\n",
    "        loss = loss_object(labels, predictions)\n",
    "    gradients = tape.gradient(loss, model.trainable_variables)\n",
    "    optimizer.apply_gradients(zip(gradients, model.trainable_variables))\n",
    "\n",
    "    train_loss(loss)\n",
    "    train_accuracy(labels, predictions)"
   ]
  },
  {
   "cell_type": "code",
   "execution_count": 6,
   "metadata": {},
   "outputs": [],
   "source": [
    "model = MyModel()"
   ]
  },
  {
   "cell_type": "code",
   "execution_count": null,
   "metadata": {},
   "outputs": [
    {
     "name": "stdout",
     "output_type": "stream",
     "text": [
      "WARNING:tensorflow:Layer my_model is casting an input tensor from dtype float64 to the layer's dtype of float32, which is new behavior in TensorFlow 2.  The layer has dtype float32 because it's dtype defaults to floatx.\n",
      "\n",
      "If you intended to run this layer in float32, you can safely ignore this warning. If in doubt, this warning is likely only an issue if you are porting a TensorFlow 1.X model to TensorFlow 2.\n",
      "\n",
      "To change all layers to have dtype float64 by default, call `tf.keras.backend.set_floatx('float64')`. To change just this layer, pass dtype='float64' to the layer constructor. If you are the author of this layer, you can disable autocasting by passing autocast=False to the base Layer constructor.\n",
      "\n"
     ]
    }
   ],
   "source": [
    "stamp = datetime.datetime.now().strftime(\"%Y%m%d-%H%M%S\")\n",
    "import os\n",
    "logdir = os.path.join(\"logs/\"+stamp)\n",
    "\n",
    "summary_writer = tf.summary.create_file_writer(logdir) \n",
    "\n",
    "EPOCHS = 1\n",
    "\n",
    "for epoch in range(EPOCHS):\n",
    "    for (x_train, y_train) in train_ds:\n",
    "        train_step(x_train, y_train)\n",
    "                    \n",
    "    with summary_writer.as_default():                               # 希望使用的记录器\n",
    "        tf.summary.scalar('loss', train_loss.result(), step=epoch)\n",
    "        tf.summary.scalar('accuracy', train_accuracy.result(), step=epoch)  # 还可以添加其他自定义的变量\n",
    "\n",
    "    # Reset metrics every epoch\n",
    "    train_loss.reset_states()\n",
    "    test_loss.reset_states()\n",
    "    train_accuracy.reset_states()\n",
    "    test_accuracy.reset_states()\n",
    "    \n",
    "with summary_writer.as_default():\n",
    "    tf.summary.trace_on(graph=True, profiler=False)  # 开启Trace，可以记录图结构和profile信息\n",
    "    tf.summary.trace_export(name=\"model_trace\", step=3, profiler_outdir=None)    # 保存Trace信息到文件"
   ]
  }
 ],
 "metadata": {
  "kernelspec": {
   "display_name": "Python 3",
   "language": "python",
   "name": "python3"
  },
  "language_info": {
   "codemirror_mode": {
    "name": "ipython",
    "version": 3
   },
   "file_extension": ".py",
   "mimetype": "text/x-python",
   "name": "python",
   "nbconvert_exporter": "python",
   "pygments_lexer": "ipython3",
   "version": "3.7.0"
  }
 },
 "nbformat": 4,
 "nbformat_minor": 4
}
